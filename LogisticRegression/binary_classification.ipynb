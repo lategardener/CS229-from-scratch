{
 "cells": [
  {
   "metadata": {},
   "cell_type": "markdown",
   "source": "<h1 style=\"color:#2192f1\" align=\"center\"> LOGISTIC REGRESSION</h1>\n",
   "id": "d1d2bf3e211af9d1"
  },
  {
   "metadata": {},
   "cell_type": "markdown",
   "source": "<h2 align=\"center\" style=\"color:#f0e912\">IMPORT LIBRARIES</h2>\n",
   "id": "b04d96f67767ac30"
  },
  {
   "metadata": {
    "ExecuteTime": {
     "end_time": "2025-08-31T22:07:30.788713Z",
     "start_time": "2025-08-31T22:07:29.750542Z"
    }
   },
   "cell_type": "code",
   "source": [
    "import pandas as pd\n",
    "import numpy as np\n",
    "import matplotlib.pyplot as plt\n",
    "from LogisticRegression.src.classification import gradient_descent_ascent, metrics, log_likelihood, negative_log_likelihood\n",
    "from LogisticRegression.src.visualization import confusion_matrix"
   ],
   "id": "f9cdbf4d99741ad1",
   "outputs": [],
   "execution_count": 5
  },
  {
   "metadata": {},
   "cell_type": "markdown",
   "source": "<h2 align=\"center\" style=\"color:#f0e912\">DATA EXPLORATION</h2>\n",
   "id": "62a56a9e89bdff28"
  },
  {
   "metadata": {
    "ExecuteTime": {
     "end_time": "2025-08-31T22:07:30.808473Z",
     "start_time": "2025-08-31T22:07:30.798862Z"
    }
   },
   "cell_type": "code",
   "source": "df = pd.read_csv(\"data/raisin_binary_classification/Raisin_Dataset.csv\")",
   "id": "6eb83d7ccd9e9ea3",
   "outputs": [],
   "execution_count": 6
  },
  {
   "metadata": {
    "ExecuteTime": {
     "end_time": "2025-08-31T22:07:30.884775Z",
     "start_time": "2025-08-31T22:07:30.864630Z"
    }
   },
   "cell_type": "code",
   "source": "df.head()",
   "id": "960b750f7ff3366d",
   "outputs": [
    {
     "data": {
      "text/plain": [
       "    Area  MajorAxisLength  MinorAxisLength  Eccentricity  ConvexArea  \\\n",
       "0  87524       442.246011       253.291155      0.819738       90546   \n",
       "1  75166       406.690687       243.032436      0.801805       78789   \n",
       "2  90856       442.267048       266.328318      0.798354       93717   \n",
       "3  45928       286.540559       208.760042      0.684989       47336   \n",
       "4  79408       352.190770       290.827533      0.564011       81463   \n",
       "\n",
       "     Extent  Perimeter    Class  \n",
       "0  0.758651   1184.040  Kecimen  \n",
       "1  0.684130   1121.786  Kecimen  \n",
       "2  0.637613   1208.575  Kecimen  \n",
       "3  0.699599    844.162  Kecimen  \n",
       "4  0.792772   1073.251  Kecimen  "
      ],
      "text/html": [
       "<div>\n",
       "<style scoped>\n",
       "    .dataframe tbody tr th:only-of-type {\n",
       "        vertical-align: middle;\n",
       "    }\n",
       "\n",
       "    .dataframe tbody tr th {\n",
       "        vertical-align: top;\n",
       "    }\n",
       "\n",
       "    .dataframe thead th {\n",
       "        text-align: right;\n",
       "    }\n",
       "</style>\n",
       "<table border=\"1\" class=\"dataframe\">\n",
       "  <thead>\n",
       "    <tr style=\"text-align: right;\">\n",
       "      <th></th>\n",
       "      <th>Area</th>\n",
       "      <th>MajorAxisLength</th>\n",
       "      <th>MinorAxisLength</th>\n",
       "      <th>Eccentricity</th>\n",
       "      <th>ConvexArea</th>\n",
       "      <th>Extent</th>\n",
       "      <th>Perimeter</th>\n",
       "      <th>Class</th>\n",
       "    </tr>\n",
       "  </thead>\n",
       "  <tbody>\n",
       "    <tr>\n",
       "      <th>0</th>\n",
       "      <td>87524</td>\n",
       "      <td>442.246011</td>\n",
       "      <td>253.291155</td>\n",
       "      <td>0.819738</td>\n",
       "      <td>90546</td>\n",
       "      <td>0.758651</td>\n",
       "      <td>1184.040</td>\n",
       "      <td>Kecimen</td>\n",
       "    </tr>\n",
       "    <tr>\n",
       "      <th>1</th>\n",
       "      <td>75166</td>\n",
       "      <td>406.690687</td>\n",
       "      <td>243.032436</td>\n",
       "      <td>0.801805</td>\n",
       "      <td>78789</td>\n",
       "      <td>0.684130</td>\n",
       "      <td>1121.786</td>\n",
       "      <td>Kecimen</td>\n",
       "    </tr>\n",
       "    <tr>\n",
       "      <th>2</th>\n",
       "      <td>90856</td>\n",
       "      <td>442.267048</td>\n",
       "      <td>266.328318</td>\n",
       "      <td>0.798354</td>\n",
       "      <td>93717</td>\n",
       "      <td>0.637613</td>\n",
       "      <td>1208.575</td>\n",
       "      <td>Kecimen</td>\n",
       "    </tr>\n",
       "    <tr>\n",
       "      <th>3</th>\n",
       "      <td>45928</td>\n",
       "      <td>286.540559</td>\n",
       "      <td>208.760042</td>\n",
       "      <td>0.684989</td>\n",
       "      <td>47336</td>\n",
       "      <td>0.699599</td>\n",
       "      <td>844.162</td>\n",
       "      <td>Kecimen</td>\n",
       "    </tr>\n",
       "    <tr>\n",
       "      <th>4</th>\n",
       "      <td>79408</td>\n",
       "      <td>352.190770</td>\n",
       "      <td>290.827533</td>\n",
       "      <td>0.564011</td>\n",
       "      <td>81463</td>\n",
       "      <td>0.792772</td>\n",
       "      <td>1073.251</td>\n",
       "      <td>Kecimen</td>\n",
       "    </tr>\n",
       "  </tbody>\n",
       "</table>\n",
       "</div>"
      ]
     },
     "execution_count": 7,
     "metadata": {},
     "output_type": "execute_result"
    }
   ],
   "execution_count": 7
  },
  {
   "metadata": {
    "ExecuteTime": {
     "end_time": "2025-08-31T22:07:31.019919Z",
     "start_time": "2025-08-31T22:07:30.991227Z"
    }
   },
   "cell_type": "code",
   "source": "df.describe()",
   "id": "878df5d64e2033de",
   "outputs": [
    {
     "data": {
      "text/plain": [
       "                Area  MajorAxisLength  MinorAxisLength  Eccentricity  \\\n",
       "count     900.000000       900.000000       900.000000    900.000000   \n",
       "mean    87804.127778       430.929950       254.488133      0.781542   \n",
       "std     39002.111390       116.035121        49.988902      0.090318   \n",
       "min     25387.000000       225.629541       143.710872      0.348730   \n",
       "25%     59348.000000       345.442898       219.111126      0.741766   \n",
       "50%     78902.000000       407.803951       247.848409      0.798846   \n",
       "75%    105028.250000       494.187014       279.888575      0.842571   \n",
       "max    235047.000000       997.291941       492.275279      0.962124   \n",
       "\n",
       "          ConvexArea      Extent    Perimeter  \n",
       "count     900.000000  900.000000   900.000000  \n",
       "mean    91186.090000    0.699508  1165.906636  \n",
       "std     40769.290132    0.053468   273.764315  \n",
       "min     26139.000000    0.379856   619.074000  \n",
       "25%     61513.250000    0.670869   966.410750  \n",
       "50%     81651.000000    0.707367  1119.509000  \n",
       "75%    108375.750000    0.734991  1308.389750  \n",
       "max    278217.000000    0.835455  2697.753000  "
      ],
      "text/html": [
       "<div>\n",
       "<style scoped>\n",
       "    .dataframe tbody tr th:only-of-type {\n",
       "        vertical-align: middle;\n",
       "    }\n",
       "\n",
       "    .dataframe tbody tr th {\n",
       "        vertical-align: top;\n",
       "    }\n",
       "\n",
       "    .dataframe thead th {\n",
       "        text-align: right;\n",
       "    }\n",
       "</style>\n",
       "<table border=\"1\" class=\"dataframe\">\n",
       "  <thead>\n",
       "    <tr style=\"text-align: right;\">\n",
       "      <th></th>\n",
       "      <th>Area</th>\n",
       "      <th>MajorAxisLength</th>\n",
       "      <th>MinorAxisLength</th>\n",
       "      <th>Eccentricity</th>\n",
       "      <th>ConvexArea</th>\n",
       "      <th>Extent</th>\n",
       "      <th>Perimeter</th>\n",
       "    </tr>\n",
       "  </thead>\n",
       "  <tbody>\n",
       "    <tr>\n",
       "      <th>count</th>\n",
       "      <td>900.000000</td>\n",
       "      <td>900.000000</td>\n",
       "      <td>900.000000</td>\n",
       "      <td>900.000000</td>\n",
       "      <td>900.000000</td>\n",
       "      <td>900.000000</td>\n",
       "      <td>900.000000</td>\n",
       "    </tr>\n",
       "    <tr>\n",
       "      <th>mean</th>\n",
       "      <td>87804.127778</td>\n",
       "      <td>430.929950</td>\n",
       "      <td>254.488133</td>\n",
       "      <td>0.781542</td>\n",
       "      <td>91186.090000</td>\n",
       "      <td>0.699508</td>\n",
       "      <td>1165.906636</td>\n",
       "    </tr>\n",
       "    <tr>\n",
       "      <th>std</th>\n",
       "      <td>39002.111390</td>\n",
       "      <td>116.035121</td>\n",
       "      <td>49.988902</td>\n",
       "      <td>0.090318</td>\n",
       "      <td>40769.290132</td>\n",
       "      <td>0.053468</td>\n",
       "      <td>273.764315</td>\n",
       "    </tr>\n",
       "    <tr>\n",
       "      <th>min</th>\n",
       "      <td>25387.000000</td>\n",
       "      <td>225.629541</td>\n",
       "      <td>143.710872</td>\n",
       "      <td>0.348730</td>\n",
       "      <td>26139.000000</td>\n",
       "      <td>0.379856</td>\n",
       "      <td>619.074000</td>\n",
       "    </tr>\n",
       "    <tr>\n",
       "      <th>25%</th>\n",
       "      <td>59348.000000</td>\n",
       "      <td>345.442898</td>\n",
       "      <td>219.111126</td>\n",
       "      <td>0.741766</td>\n",
       "      <td>61513.250000</td>\n",
       "      <td>0.670869</td>\n",
       "      <td>966.410750</td>\n",
       "    </tr>\n",
       "    <tr>\n",
       "      <th>50%</th>\n",
       "      <td>78902.000000</td>\n",
       "      <td>407.803951</td>\n",
       "      <td>247.848409</td>\n",
       "      <td>0.798846</td>\n",
       "      <td>81651.000000</td>\n",
       "      <td>0.707367</td>\n",
       "      <td>1119.509000</td>\n",
       "    </tr>\n",
       "    <tr>\n",
       "      <th>75%</th>\n",
       "      <td>105028.250000</td>\n",
       "      <td>494.187014</td>\n",
       "      <td>279.888575</td>\n",
       "      <td>0.842571</td>\n",
       "      <td>108375.750000</td>\n",
       "      <td>0.734991</td>\n",
       "      <td>1308.389750</td>\n",
       "    </tr>\n",
       "    <tr>\n",
       "      <th>max</th>\n",
       "      <td>235047.000000</td>\n",
       "      <td>997.291941</td>\n",
       "      <td>492.275279</td>\n",
       "      <td>0.962124</td>\n",
       "      <td>278217.000000</td>\n",
       "      <td>0.835455</td>\n",
       "      <td>2697.753000</td>\n",
       "    </tr>\n",
       "  </tbody>\n",
       "</table>\n",
       "</div>"
      ]
     },
     "execution_count": 8,
     "metadata": {},
     "output_type": "execute_result"
    }
   ],
   "execution_count": 8
  },
  {
   "metadata": {},
   "cell_type": "markdown",
   "source": "<h2 align=\"center\" style=\"color:#f0e912\">DATA PREPROCESSING</h2>\n",
   "id": "5d10e98b914e7153"
  },
  {
   "metadata": {
    "ExecuteTime": {
     "end_time": "2025-08-31T22:07:31.885818Z",
     "start_time": "2025-08-31T22:07:31.866443Z"
    }
   },
   "cell_type": "code",
   "source": [
    "for c in df.select_dtypes(exclude=['object']):\n",
    "    max = df[c].max()\n",
    "    min = df[c].min()\n",
    "    df[c] = df[c].apply(lambda x: (x - min) / (max - min))"
   ],
   "id": "9bd7c546456d297",
   "outputs": [],
   "execution_count": 9
  },
  {
   "metadata": {
    "ExecuteTime": {
     "end_time": "2025-08-31T22:07:32.229356Z",
     "start_time": "2025-08-31T22:07:32.219111Z"
    }
   },
   "cell_type": "code",
   "source": [
    "for index, value in enumerate(df['Class'].unique()):\n",
    "    df.loc[df['Class'] == value, [\"Class\"]] = index"
   ],
   "id": "451d68dae31f2bb1",
   "outputs": [],
   "execution_count": 10
  },
  {
   "metadata": {
    "ExecuteTime": {
     "end_time": "2025-08-31T22:07:32.556094Z",
     "start_time": "2025-08-31T22:07:32.547386Z"
    }
   },
   "cell_type": "code",
   "source": [
    "df_train = df.sample(random_state=1, frac=0.8)\n",
    "df_test = df.drop(df_train.index)"
   ],
   "id": "a1c1d3ecabda9776",
   "outputs": [],
   "execution_count": 11
  },
  {
   "metadata": {},
   "cell_type": "markdown",
   "source": "<h3 align=\"center\" style=\"color:#5F75BF\">CLASS BALANCE CHECK</h3>\n",
   "id": "7dd48aa52e80ce12"
  },
  {
   "metadata": {
    "ExecuteTime": {
     "end_time": "2025-08-31T22:29:58.686751Z",
     "start_time": "2025-08-31T22:29:58.675282Z"
    }
   },
   "cell_type": "code",
   "source": "df_train[\"Class\"].value_counts()",
   "id": "8523a02eb92be513",
   "outputs": [
    {
     "data": {
      "text/plain": [
       "Class\n",
       "0    369\n",
       "1    351\n",
       "Name: count, dtype: int64"
      ]
     },
     "execution_count": 44,
     "metadata": {},
     "output_type": "execute_result"
    }
   ],
   "execution_count": 44
  },
  {
   "metadata": {},
   "cell_type": "markdown",
   "source": "<h3 align=\"center\" style=\"color:#5F75BF\">ADD INTERCEPT TERM</h3>\n",
   "id": "a41066108ecff007"
  },
  {
   "metadata": {
    "ExecuteTime": {
     "end_time": "2025-08-31T22:07:43.394486Z",
     "start_time": "2025-08-31T22:07:43.384972Z"
    }
   },
   "cell_type": "code",
   "source": [
    "# Transform features and target into numpy\n",
    "X = df_train.drop(\"Class\", axis=1)\n",
    "y = df_train[\"Class\"].values.reshape(-1, 1)\n",
    "# Intercept feature\n",
    "i_term = np.ones((len(X), 1))\n",
    "# Add intercept feature in other features\n",
    "X_intercept = np.concatenate((i_term, X), axis=1)"
   ],
   "id": "368282435ca1d7a9",
   "outputs": [],
   "execution_count": 13
  },
  {
   "metadata": {
    "ExecuteTime": {
     "end_time": "2025-08-31T22:07:43.867796Z",
     "start_time": "2025-08-31T22:07:43.860236Z"
    }
   },
   "cell_type": "code",
   "source": [
    "# Transform features and target into numpy\n",
    "X_test = df_test.drop(\"Class\", axis=1)\n",
    "y_test = df_test[\"Class\"].values.reshape(-1, 1)\n",
    "# Intercept feature\n",
    "i_term_test = np.ones((len(X_test), 1))\n",
    "# Add intercept feature in other features\n",
    "X_test_intercept = np.concatenate((i_term_test, X_test), axis=1)"
   ],
   "id": "713114651cc89587",
   "outputs": [],
   "execution_count": 14
  },
  {
   "metadata": {},
   "cell_type": "markdown",
   "source": "<h2 align=\"center\" style=\"color:#f0e912\">TRAINING</h2>\n",
   "id": "984f8c76dd2263bf"
  },
  {
   "metadata": {
    "ExecuteTime": {
     "end_time": "2025-08-31T22:24:36.756434Z",
     "start_time": "2025-08-31T22:24:26.922820Z"
    }
   },
   "cell_type": "code",
   "source": "theta, final_loss, weights_history, loss_history, metrics = gradient_descent_ascent(X_intercept, y, type=\"SGD\", alpha=1 , loss_function=negative_log_likelihood)",
   "id": "c0c1221365156f0c",
   "outputs": [],
   "execution_count": 38
  },
  {
   "metadata": {
    "ExecuteTime": {
     "end_time": "2025-08-31T22:24:36.787121Z",
     "start_time": "2025-08-31T22:24:36.772311Z"
    }
   },
   "cell_type": "code",
   "source": "loss_history",
   "id": "62de067258a96378",
   "outputs": [
    {
     "data": {
      "text/plain": [
       "array([499.06597   , 570.1261774 , 645.39036642, 732.23968937,\n",
       "       812.86468379, 867.39864688, 500.47058422, 592.98619458,\n",
       "       469.25528643, 509.46897114, 499.49739948, 602.88505924,\n",
       "       717.37408404, 453.60642782, 512.44750394, 600.94488072,\n",
       "       647.33197902, 745.82275476, 796.70522207, 462.93387383,\n",
       "       581.56133272, 430.32826543, 479.23012465, 418.73543884,\n",
       "       447.96992574, 509.41121177, 417.87371336, 507.76566689,\n",
       "       615.55665842, 689.38890533, 743.12447703, 396.96210474,\n",
       "       439.32821358, 492.50822893, 615.69582812, 381.44840094,\n",
       "       444.45087648, 374.94119055, 434.96209152, 563.97508652,\n",
       "       397.84449071, 473.36864049, 363.54324227, 396.31794194,\n",
       "       393.49894668, 439.46927213, 492.92716735, 358.38871278,\n",
       "       468.3382762 , 478.87060409, 566.17988   , 574.68569926,\n",
       "       356.10207971, 398.42200469, 361.49895978, 421.07651475,\n",
       "       355.60265547, 384.16608897, 364.24522658, 347.42822521,\n",
       "       389.07244216, 479.91269085, 506.97759725, 353.18015932,\n",
       "       335.77760881, 358.5676044 , 353.55881712, 415.17212191,\n",
       "       513.1715484 , 332.01082415, 347.62403619, 356.38762197,\n",
       "       327.7847315 , 331.89225383, 358.39102893, 433.18680066,\n",
       "       334.76719787, 332.03354018, 325.8181447 , 341.27457734,\n",
       "       323.11835213, 381.56986297, 320.34603151, 451.65808607,\n",
       "       328.44205903, 324.00559327, 389.45173758, 433.72983005,\n",
       "       324.83441766, 320.33416502, 332.53917172, 372.50179016,\n",
       "       319.67788938, 332.7378272 , 322.74785597, 313.494781  ,\n",
       "       363.01629165, 316.22397891, 357.41288165, 464.21972334,\n",
       "       538.7426915 , 312.514021  , 349.08003444, 390.13780678,\n",
       "       316.17051469, 309.08691457, 344.57705066, 410.98145793,\n",
       "       434.4439235 , 449.96790173, 404.88553837, 464.91076179,\n",
       "       538.23639683, 385.42015828, 338.76789277, 378.6927295 ,\n",
       "       312.92970354, 307.05968331, 304.89628963, 308.95174029,\n",
       "       361.53791928, 299.66492611, 310.43219227, 359.46867128,\n",
       "       345.18356447, 367.25756544, 413.05442166, 420.61457218,\n",
       "       305.42085029, 312.76691073, 322.29150059, 310.46677034,\n",
       "       311.08885638, 301.61879391, 324.42800969, 375.27479366,\n",
       "       300.92319596, 306.65580933, 311.82213589, 322.73407104,\n",
       "       335.32269626, 414.26985416, 294.01755397, 307.89794899,\n",
       "       339.18785334, 297.27242538, 377.59992193, 395.22453742,\n",
       "       432.08682535, 310.33490553, 333.2440412 , 366.26713266,\n",
       "       320.05031556, 316.24335201, 386.86317551, 402.7613769 ,\n",
       "       315.23909945, 326.28295371, 309.41869579, 341.08857015,\n",
       "       369.60347985, 307.64621616, 312.24641095, 304.60293464,\n",
       "       304.46599173, 331.55540613, 303.4171793 , 328.6183982 ,\n",
       "       306.56753628, 323.87078679, 378.20774703, 383.10996591,\n",
       "       306.24781102, 319.83017295, 365.46818816, 415.15599654,\n",
       "       358.9688686 , 378.70262575, 324.10790364, 295.13824511,\n",
       "       320.02591849, 308.57374945, 340.95695712, 314.13556441,\n",
       "       323.04373178, 330.95206502, 333.90383687, 293.05075531,\n",
       "       324.14214799, 360.83305809, 425.51734157, 443.06540111,\n",
       "       297.18546993, 306.85102488, 291.88803682, 296.2868569 ,\n",
       "       317.69179521, 342.7738604 , 388.08392347, 292.64283876,\n",
       "       310.86160121, 302.96923483, 364.30504606, 292.49765697,\n",
       "       291.91496332, 298.43658888, 331.37764196, 298.7682247 ,\n",
       "       288.91667201, 289.24673548, 296.81036215, 309.87872349,\n",
       "       365.10521163, 379.68427319, 290.5016324 , 314.62037967,\n",
       "       290.91336191, 288.98093963, 314.86954796, 304.09313024,\n",
       "       334.31214742, 286.40271028, 300.54808338, 296.10728399,\n",
       "       302.45248891, 285.61360597, 285.75058265, 293.03392777,\n",
       "       344.33020551, 297.75733814, 313.86733956, 300.29719397,\n",
       "       423.11796579, 481.88954038, 325.30916531, 286.71570267,\n",
       "       287.0447017 , 291.45653581, 285.80906751, 286.08410813,\n",
       "       301.33427466, 304.81515038, 336.05782626, 310.94005919,\n",
       "       282.53321003, 281.51623948, 300.22478025, 371.21859852,\n",
       "       283.18571843, 298.16097998, 298.14642252, 296.6511733 ,\n",
       "       292.70998178, 280.45452264, 312.68247728, 290.28784327,\n",
       "       284.40465832, 347.01364557, 364.25396155, 280.03346929,\n",
       "       317.00373772, 290.41650298, 289.69988296, 281.44466277,\n",
       "       377.62048816, 696.23638823, 420.77737294, 330.93995365,\n",
       "       294.53248623, 301.89889472, 364.12876082, 364.40197729,\n",
       "       278.50280194, 278.03877294, 277.81189361, 287.34188311,\n",
       "       282.5234736 , 290.2157588 , 308.71710039, 296.13246146,\n",
       "       405.03484923, 366.09451254, 400.39254499, 281.42758738,\n",
       "       415.98034535, 314.50053871, 279.39591124, 278.7765851 ,\n",
       "       289.38007118, 301.40037306, 291.95646855, 279.12445044,\n",
       "       308.42200109, 317.55069217, 276.66397904, 276.94399613,\n",
       "       275.77759261, 275.77582382, 383.52998244, 345.72682115,\n",
       "       370.08851558, 431.19067145, 275.99463257, 374.02174188,\n",
       "       361.09726906, 386.05880744, 293.13028734, 322.08946557,\n",
       "       278.3058045 , 296.11882844, 294.12690757, 299.55448182,\n",
       "       288.77231649, 279.98854089, 292.84570797, 290.71348611,\n",
       "       303.90732663, 277.16237262, 313.50111333, 335.31311625,\n",
       "       304.64201992, 343.64212011, 275.22528107, 316.18158863,\n",
       "       291.40504416, 278.00368859, 293.63361376, 276.12348696,\n",
       "       274.79190312, 274.90215989, 281.11758236, 326.26365615,\n",
       "       327.16587808, 336.59351989, 279.97195503, 282.33814768,\n",
       "       439.29904965, 276.2997533 , 301.20681353, 308.26765817,\n",
       "       358.93637509, 349.20975378, 283.88982634, 274.84447831,\n",
       "       274.83078945, 282.34096924, 292.06938774, 320.93684556,\n",
       "       324.27633367, 327.9602636 , 309.84075755, 350.45696431,\n",
       "       282.2305203 , 282.85768309, 286.73385609, 310.45147701,\n",
       "       332.4796735 , 284.04319201, 324.09373404, 338.25557608,\n",
       "       287.59692009, 287.27063163, 295.89492637, 313.50356622,\n",
       "       280.72426962, 273.7640028 , 421.64123179, 341.34805529,\n",
       "       275.0010307 , 273.85036386, 304.15343268, 335.75210772,\n",
       "       274.10856158, 277.94126284, 278.71333199, 278.71501936,\n",
       "       277.41987353, 331.96891038, 345.13951431, 383.17460364,\n",
       "       393.24065352, 414.6722548 , 424.09056168, 436.20418656,\n",
       "       439.40707351, 462.96824105, 484.13443576, 364.13608129,\n",
       "       358.70204291, 304.48936911, 285.37009795, 271.27579524,\n",
       "       303.79292866, 307.08151892, 290.50546369, 288.5062066 ,\n",
       "       284.63811597, 271.76015077, 272.30159771, 272.24838784,\n",
       "       277.69681313, 301.2975647 , 327.71268256, 298.23733607,\n",
       "       299.25958068, 286.42129144, 303.42682166, 269.74647543,\n",
       "       299.17256233, 344.50999415, 280.77749647, 294.19633283,\n",
       "       273.97500443, 273.01703099, 303.60432713, 415.15259784,\n",
       "       476.28394502, 478.45648404, 487.95097822, 496.04333444,\n",
       "       289.63850075, 381.11883946, 284.92330696, 289.84480984,\n",
       "       299.93296394, 269.05900366, 274.99763408, 279.92818367,\n",
       "       280.17394403, 277.42938145, 273.83370774, 323.2602466 ,\n",
       "       323.74235552, 373.51124432, 415.43813812, 431.50149377,\n",
       "       448.8776391 , 501.80825251, 505.99370367, 523.53157265,\n",
       "       324.21748618, 326.02279832, 340.29684488, 323.03663912,\n",
       "       367.70062575, 369.55090238, 336.33314733, 323.92074103,\n",
       "       384.28141064, 594.43055576, 312.25661852, 388.32125907,\n",
       "       283.49862952, 268.73789899, 283.55286309, 269.80257403,\n",
       "       276.87263303, 321.43352135, 319.12909022, 276.77920821,\n",
       "       268.11937258, 322.06739736, 306.69532153, 382.77065158,\n",
       "       275.26900023, 311.1706979 , 320.30539242, 289.35690341,\n",
       "       273.41024387, 273.18113271, 272.4147615 , 293.67697759,\n",
       "       275.87695814, 338.32893312, 272.06745512, 275.23124141,\n",
       "       276.15749819, 325.6788385 , 358.052578  , 273.75268258,\n",
       "       393.290695  , 512.90248498, 514.48567524, 502.27914624,\n",
       "       385.8161441 , 405.0011492 , 466.13584493, 466.20364359,\n",
       "       303.87311665, 304.43845892, 361.66886481, 269.06518116,\n",
       "       267.16829281, 393.80350924, 312.22514965, 299.74445457,\n",
       "       273.79937007, 282.92340691, 303.77876963, 275.36549034,\n",
       "       275.37654661, 285.1181934 , 267.11882062, 267.35864845,\n",
       "       369.6976299 , 370.28637691, 318.94858273, 269.16097906,\n",
       "       267.50718329, 267.64309288, 307.92190894, 320.53852808,\n",
       "       307.34765376, 284.85271222, 291.78473935, 295.28431302,\n",
       "       362.35096679, 387.52695794, 397.78334962, 288.99809762,\n",
       "       267.83041743, 332.76938973, 394.44360591, 415.54849334,\n",
       "       306.57678617, 275.73677787, 307.04098603, 315.58977622,\n",
       "       320.8227956 , 277.75029318, 268.09643229, 273.13881599,\n",
       "       318.69171054, 267.27889191, 268.85745417, 283.76569841,\n",
       "       284.48180416, 277.7043846 , 280.23213363, 369.485948  ,\n",
       "       382.71551351, 274.74345721, 297.29072757, 296.00068451,\n",
       "       306.70132889, 267.83988368, 267.61436276, 273.32496717,\n",
       "       281.44613336, 341.3260986 , 389.98281811, 311.19810203,\n",
       "       365.84971636, 367.22449859, 363.81771999, 368.99988731,\n",
       "       373.26842669, 377.54669475, 397.59750417, 399.8552013 ,\n",
       "       407.9074265 , 455.85871169, 293.94735473, 298.30959905,\n",
       "       271.52419657, 281.29989856, 268.59142553, 282.65162581,\n",
       "       268.31834157, 267.12188908, 299.57429711, 312.42538433,\n",
       "       268.26318426, 279.51139254, 266.38070401, 360.18541542,\n",
       "       266.75829166, 337.53910549, 337.80564283, 515.63703623,\n",
       "       439.68844189, 439.7515681 , 270.75414561, 270.88965218,\n",
       "       272.60006396, 266.75737927, 269.34851687, 281.83512861,\n",
       "       287.63852214, 286.55279841, 275.16533182, 272.01423167,\n",
       "       272.98075527, 277.29674918, 302.25176754, 313.81079522,\n",
       "       321.75426613, 278.91809356, 270.42621072, 267.58876943,\n",
       "       274.09656585, 296.30682839, 325.7276871 , 294.24636556,\n",
       "       297.67284288, 296.10327105, 345.7409471 , 366.9523193 ,\n",
       "       373.18639498, 360.52575474, 319.16070482, 272.85158276,\n",
       "       279.33481177, 286.70999353, 278.74094271, 280.78100241,\n",
       "       312.93434574, 297.81984429, 273.74623105, 266.23759064,\n",
       "       435.17265618, 435.35110104, 266.11502623, 272.75703893,\n",
       "       279.58393325, 285.10982853, 274.9673982 , 329.13859261,\n",
       "       288.23570797, 275.10617087, 266.21798919, 274.50072229,\n",
       "       266.18858026, 335.16442774, 286.36902388, 287.59926682,\n",
       "       326.18106413, 328.11682081, 290.90426871, 309.46183759,\n",
       "       327.18262209, 295.88028755, 293.62130515, 291.63733601,\n",
       "       294.48617837, 274.66885231, 291.08029609, 294.76437071,\n",
       "       266.28218424, 269.89633179, 283.06687293, 688.95588877,\n",
       "       697.48100999, 332.74418984, 344.85810028, 397.29417175,\n",
       "       271.77182012, 267.11850299, 266.759654  , 271.74416359,\n",
       "       271.87290827, 332.0363056 , 422.44395904, 423.37030155,\n",
       "       510.52401854, 520.29532703, 278.49416131, 282.81371511,\n",
       "       266.10578995, 266.48145032, 419.24981674, 419.48459406,\n",
       "       284.10773366, 353.95859802, 301.4758257 , 307.77435454,\n",
       "       333.78025799, 335.93575373, 347.32756621, 381.34830921,\n",
       "       387.25956624, 363.67141272, 270.55675482, 270.5616965 ,\n",
       "       266.28504194, 269.33431986, 269.62819272, 329.71629408,\n",
       "       410.79558093, 423.45941818, 429.1236289 , 298.77736929,\n",
       "       276.0922121 , 269.54231775, 267.55357095, 268.66438385,\n",
       "       265.40094307, 265.29755165, 266.33976713, 266.22846876,\n",
       "       272.62991604, 273.75515729, 269.73622188, 309.0185283 ,\n",
       "       267.75487829, 276.37557387, 294.75030501, 284.15944798,\n",
       "       467.42995963, 398.82340449, 314.82835338, 269.40368579,\n",
       "       266.98900621, 264.70909865, 264.55975124, 281.88999746,\n",
       "       274.39750255, 277.0628776 , 313.65068781, 333.16119969,\n",
       "       278.26272403])"
      ]
     },
     "execution_count": 39,
     "metadata": {},
     "output_type": "execute_result"
    }
   ],
   "execution_count": 39
  },
  {
   "metadata": {
    "ExecuteTime": {
     "end_time": "2025-08-31T22:27:05.624695Z",
     "start_time": "2025-08-31T22:27:05.412152Z"
    }
   },
   "cell_type": "code",
   "source": "confusion_matrix(X_intercept,y, theta)",
   "id": "70ff572d00e864e8",
   "outputs": [
    {
     "data": {
      "text/plain": [
       "<Figure size 640x480 with 2 Axes>"
      ],
      "image/png": "[encoded data removed]"
     },
     "metadata": {},
     "output_type": "display_data"
    }
   ],
   "execution_count": 41
  },
  {
   "metadata": {},
   "cell_type": "markdown",
   "source": "<h2 align=\"center\" style=\"color:#f0e912\">TESTING</h2>\n",
   "id": "36b18824de9cdc11"
  },
  {
   "metadata": {
    "ExecuteTime": {
     "end_time": "2025-08-31T22:27:04.796159Z",
     "start_time": "2025-08-31T22:27:04.784236Z"
    }
   },
   "cell_type": "code",
   "outputs": [
    {
     "data": {
      "text/plain": [
       "{'accuracy': np.float64(0.85),\n",
       " 'precision': np.float64(0.8461538461538461),\n",
       " 'recall': np.float64(0.8888888888888888),\n",
       " 'f1_score': np.float64(0.8669950738916256)}"
      ]
     },
     "execution_count": 40,
     "metadata": {},
     "output_type": "execute_result"
    }
   ],
   "execution_count": 40,
   "source": "metrics(X_test_intercept, y_test, theta)",
   "id": "8e32f2271efc2ed8"
  },
  {
   "metadata": {
    "ExecuteTime": {
     "end_time": "2025-08-31T22:27:25.677116Z",
     "start_time": "2025-08-31T22:27:25.517966Z"
    }
   },
   "cell_type": "code",
   "source": "confusion_matrix(X_test_intercept,y_test, theta)",
   "id": "5d727d38ed5068b1",
   "outputs": [
    {
     "data": {
      "text/plain": [
       "<Figure size 640x480 with 2 Axes>"
      ],
      "image/png": "[encoded data removed]"
     },
     "metadata": {},
     "output_type": "display_data"
    }
   ],
   "execution_count": 42
  },
  {
   "metadata": {},
   "cell_type": "code",
   "outputs": [],
   "execution_count": null,
   "source": "",
   "id": "6aabf7d0ac782e50"
  }
 ],
 "metadata": {
  "kernelspec": {
   "display_name": "Python 3",
   "language": "python",
   "name": "python3"
  },
  "language_info": {
   "codemirror_mode": {
    "name": "ipython",
    "version": 2
   },
   "file_extension": ".py",
   "mimetype": "text/x-python",
   "name": "python",
   "nbconvert_exporter": "python",
   "pygments_lexer": "ipython2",
   "version": "2.7.6"
  }
 },
 "nbformat": 4,
 "nbformat_minor": 5
}
