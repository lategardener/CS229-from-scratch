{
 "cells": [
  {
   "metadata": {},
   "cell_type": "markdown",
   "source": "<h1 style=\"color:#2192f1\" align=\"center\"> LOGISTIC REGRESSION</h1>\n",
   "id": "d1d2bf3e211af9d1"
  },
  {
   "metadata": {},
   "cell_type": "markdown",
   "source": "<h2 align=\"center\" style=\"color:#f0e912\">IMPORT LIBRARIES</h2>\n",
   "id": "b04d96f67767ac30"
  },
  {
   "metadata": {
    "ExecuteTime": {
     "end_time": "2025-08-28T00:10:08.615188Z",
     "start_time": "2025-08-28T00:10:07.734296Z"
    }
   },
   "cell_type": "code",
   "source": [
    "import pandas as pd\n",
    "import numpy as np\n",
    "import matplotlib.pyplot as plt"
   ],
   "id": "f9cdbf4d99741ad1",
   "outputs": [],
   "execution_count": 1
  },
  {
   "metadata": {},
   "cell_type": "markdown",
   "source": "<h2 align=\"center\" style=\"color:#f0e912\">DATA EXPLORATION</h2>\n",
   "id": "62a56a9e89bdff28"
  },
  {
   "metadata": {
    "ExecuteTime": {
     "end_time": "2025-08-28T00:10:08.631387Z",
     "start_time": "2025-08-28T00:10:08.621596Z"
    }
   },
   "cell_type": "code",
   "source": "df = pd.read_csv(\"data/raisin_binary_classification/Raisin_Dataset.csv\")",
   "id": "6eb83d7ccd9e9ea3",
   "outputs": [],
   "execution_count": 2
  },
  {
   "metadata": {
    "ExecuteTime": {
     "end_time": "2025-08-28T00:10:08.853396Z",
     "start_time": "2025-08-28T00:10:08.837080Z"
    }
   },
   "cell_type": "code",
   "source": "df.head()",
   "id": "960b750f7ff3366d",
   "outputs": [
    {
     "data": {
      "text/plain": [
       "    Area  MajorAxisLength  MinorAxisLength  Eccentricity  ConvexArea  \\\n",
       "0  87524       442.246011       253.291155      0.819738       90546   \n",
       "1  75166       406.690687       243.032436      0.801805       78789   \n",
       "2  90856       442.267048       266.328318      0.798354       93717   \n",
       "3  45928       286.540559       208.760042      0.684989       47336   \n",
       "4  79408       352.190770       290.827533      0.564011       81463   \n",
       "\n",
       "     Extent  Perimeter    Class  \n",
       "0  0.758651   1184.040  Kecimen  \n",
       "1  0.684130   1121.786  Kecimen  \n",
       "2  0.637613   1208.575  Kecimen  \n",
       "3  0.699599    844.162  Kecimen  \n",
       "4  0.792772   1073.251  Kecimen  "
      ],
      "text/html": [
       "<div>\n",
       "<style scoped>\n",
       "    .dataframe tbody tr th:only-of-type {\n",
       "        vertical-align: middle;\n",
       "    }\n",
       "\n",
       "    .dataframe tbody tr th {\n",
       "        vertical-align: top;\n",
       "    }\n",
       "\n",
       "    .dataframe thead th {\n",
       "        text-align: right;\n",
       "    }\n",
       "</style>\n",
       "<table border=\"1\" class=\"dataframe\">\n",
       "  <thead>\n",
       "    <tr style=\"text-align: right;\">\n",
       "      <th></th>\n",
       "      <th>Area</th>\n",
       "      <th>MajorAxisLength</th>\n",
       "      <th>MinorAxisLength</th>\n",
       "      <th>Eccentricity</th>\n",
       "      <th>ConvexArea</th>\n",
       "      <th>Extent</th>\n",
       "      <th>Perimeter</th>\n",
       "      <th>Class</th>\n",
       "    </tr>\n",
       "  </thead>\n",
       "  <tbody>\n",
       "    <tr>\n",
       "      <th>0</th>\n",
       "      <td>87524</td>\n",
       "      <td>442.246011</td>\n",
       "      <td>253.291155</td>\n",
       "      <td>0.819738</td>\n",
       "      <td>90546</td>\n",
       "      <td>0.758651</td>\n",
       "      <td>1184.040</td>\n",
       "      <td>Kecimen</td>\n",
       "    </tr>\n",
       "    <tr>\n",
       "      <th>1</th>\n",
       "      <td>75166</td>\n",
       "      <td>406.690687</td>\n",
       "      <td>243.032436</td>\n",
       "      <td>0.801805</td>\n",
       "      <td>78789</td>\n",
       "      <td>0.684130</td>\n",
       "      <td>1121.786</td>\n",
       "      <td>Kecimen</td>\n",
       "    </tr>\n",
       "    <tr>\n",
       "      <th>2</th>\n",
       "      <td>90856</td>\n",
       "      <td>442.267048</td>\n",
       "      <td>266.328318</td>\n",
       "      <td>0.798354</td>\n",
       "      <td>93717</td>\n",
       "      <td>0.637613</td>\n",
       "      <td>1208.575</td>\n",
       "      <td>Kecimen</td>\n",
       "    </tr>\n",
       "    <tr>\n",
       "      <th>3</th>\n",
       "      <td>45928</td>\n",
       "      <td>286.540559</td>\n",
       "      <td>208.760042</td>\n",
       "      <td>0.684989</td>\n",
       "      <td>47336</td>\n",
       "      <td>0.699599</td>\n",
       "      <td>844.162</td>\n",
       "      <td>Kecimen</td>\n",
       "    </tr>\n",
       "    <tr>\n",
       "      <th>4</th>\n",
       "      <td>79408</td>\n",
       "      <td>352.190770</td>\n",
       "      <td>290.827533</td>\n",
       "      <td>0.564011</td>\n",
       "      <td>81463</td>\n",
       "      <td>0.792772</td>\n",
       "      <td>1073.251</td>\n",
       "      <td>Kecimen</td>\n",
       "    </tr>\n",
       "  </tbody>\n",
       "</table>\n",
       "</div>"
      ]
     },
     "execution_count": 3,
     "metadata": {},
     "output_type": "execute_result"
    }
   ],
   "execution_count": 3
  },
  {
   "metadata": {
    "ExecuteTime": {
     "end_time": "2025-08-28T00:10:08.984952Z",
     "start_time": "2025-08-28T00:10:08.950179Z"
    }
   },
   "cell_type": "code",
   "source": "df.describe()",
   "id": "878df5d64e2033de",
   "outputs": [
    {
     "data": {
      "text/plain": [
       "                Area  MajorAxisLength  MinorAxisLength  Eccentricity  \\\n",
       "count     900.000000       900.000000       900.000000    900.000000   \n",
       "mean    87804.127778       430.929950       254.488133      0.781542   \n",
       "std     39002.111390       116.035121        49.988902      0.090318   \n",
       "min     25387.000000       225.629541       143.710872      0.348730   \n",
       "25%     59348.000000       345.442898       219.111126      0.741766   \n",
       "50%     78902.000000       407.803951       247.848409      0.798846   \n",
       "75%    105028.250000       494.187014       279.888575      0.842571   \n",
       "max    235047.000000       997.291941       492.275279      0.962124   \n",
       "\n",
       "          ConvexArea      Extent    Perimeter  \n",
       "count     900.000000  900.000000   900.000000  \n",
       "mean    91186.090000    0.699508  1165.906636  \n",
       "std     40769.290132    0.053468   273.764315  \n",
       "min     26139.000000    0.379856   619.074000  \n",
       "25%     61513.250000    0.670869   966.410750  \n",
       "50%     81651.000000    0.707367  1119.509000  \n",
       "75%    108375.750000    0.734991  1308.389750  \n",
       "max    278217.000000    0.835455  2697.753000  "
      ],
      "text/html": [
       "<div>\n",
       "<style scoped>\n",
       "    .dataframe tbody tr th:only-of-type {\n",
       "        vertical-align: middle;\n",
       "    }\n",
       "\n",
       "    .dataframe tbody tr th {\n",
       "        vertical-align: top;\n",
       "    }\n",
       "\n",
       "    .dataframe thead th {\n",
       "        text-align: right;\n",
       "    }\n",
       "</style>\n",
       "<table border=\"1\" class=\"dataframe\">\n",
       "  <thead>\n",
       "    <tr style=\"text-align: right;\">\n",
       "      <th></th>\n",
       "      <th>Area</th>\n",
       "      <th>MajorAxisLength</th>\n",
       "      <th>MinorAxisLength</th>\n",
       "      <th>Eccentricity</th>\n",
       "      <th>ConvexArea</th>\n",
       "      <th>Extent</th>\n",
       "      <th>Perimeter</th>\n",
       "    </tr>\n",
       "  </thead>\n",
       "  <tbody>\n",
       "    <tr>\n",
       "      <th>count</th>\n",
       "      <td>900.000000</td>\n",
       "      <td>900.000000</td>\n",
       "      <td>900.000000</td>\n",
       "      <td>900.000000</td>\n",
       "      <td>900.000000</td>\n",
       "      <td>900.000000</td>\n",
       "      <td>900.000000</td>\n",
       "    </tr>\n",
       "    <tr>\n",
       "      <th>mean</th>\n",
       "      <td>87804.127778</td>\n",
       "      <td>430.929950</td>\n",
       "      <td>254.488133</td>\n",
       "      <td>0.781542</td>\n",
       "      <td>91186.090000</td>\n",
       "      <td>0.699508</td>\n",
       "      <td>1165.906636</td>\n",
       "    </tr>\n",
       "    <tr>\n",
       "      <th>std</th>\n",
       "      <td>39002.111390</td>\n",
       "      <td>116.035121</td>\n",
       "      <td>49.988902</td>\n",
       "      <td>0.090318</td>\n",
       "      <td>40769.290132</td>\n",
       "      <td>0.053468</td>\n",
       "      <td>273.764315</td>\n",
       "    </tr>\n",
       "    <tr>\n",
       "      <th>min</th>\n",
       "      <td>25387.000000</td>\n",
       "      <td>225.629541</td>\n",
       "      <td>143.710872</td>\n",
       "      <td>0.348730</td>\n",
       "      <td>26139.000000</td>\n",
       "      <td>0.379856</td>\n",
       "      <td>619.074000</td>\n",
       "    </tr>\n",
       "    <tr>\n",
       "      <th>25%</th>\n",
       "      <td>59348.000000</td>\n",
       "      <td>345.442898</td>\n",
       "      <td>219.111126</td>\n",
       "      <td>0.741766</td>\n",
       "      <td>61513.250000</td>\n",
       "      <td>0.670869</td>\n",
       "      <td>966.410750</td>\n",
       "    </tr>\n",
       "    <tr>\n",
       "      <th>50%</th>\n",
       "      <td>78902.000000</td>\n",
       "      <td>407.803951</td>\n",
       "      <td>247.848409</td>\n",
       "      <td>0.798846</td>\n",
       "      <td>81651.000000</td>\n",
       "      <td>0.707367</td>\n",
       "      <td>1119.509000</td>\n",
       "    </tr>\n",
       "    <tr>\n",
       "      <th>75%</th>\n",
       "      <td>105028.250000</td>\n",
       "      <td>494.187014</td>\n",
       "      <td>279.888575</td>\n",
       "      <td>0.842571</td>\n",
       "      <td>108375.750000</td>\n",
       "      <td>0.734991</td>\n",
       "      <td>1308.389750</td>\n",
       "    </tr>\n",
       "    <tr>\n",
       "      <th>max</th>\n",
       "      <td>235047.000000</td>\n",
       "      <td>997.291941</td>\n",
       "      <td>492.275279</td>\n",
       "      <td>0.962124</td>\n",
       "      <td>278217.000000</td>\n",
       "      <td>0.835455</td>\n",
       "      <td>2697.753000</td>\n",
       "    </tr>\n",
       "  </tbody>\n",
       "</table>\n",
       "</div>"
      ]
     },
     "execution_count": 4,
     "metadata": {},
     "output_type": "execute_result"
    }
   ],
   "execution_count": 4
  },
  {
   "metadata": {},
   "cell_type": "markdown",
   "source": "<h2 align=\"center\" style=\"color:#f0e912\">DATA PREPROCESSING</h2>\n",
   "id": "5d10e98b914e7153"
  },
  {
   "metadata": {
    "ExecuteTime": {
     "end_time": "2025-08-28T00:10:09.022726Z",
     "start_time": "2025-08-28T00:10:09.001687Z"
    }
   },
   "cell_type": "code",
   "source": [
    "for c in df.select_dtypes(exclude=['object']):\n",
    "    max = df[c].max()\n",
    "    min = df[c].min()\n",
    "    df[c] = df[c].apply(lambda x: (x - min) / (max - min))"
   ],
   "id": "9bd7c546456d297",
   "outputs": [],
   "execution_count": 5
  },
  {
   "metadata": {
    "ExecuteTime": {
     "end_time": "2025-08-28T00:10:09.140132Z",
     "start_time": "2025-08-28T00:10:09.126336Z"
    }
   },
   "cell_type": "code",
   "source": [
    "for index, value in enumerate(df['Class'].unique()):\n",
    "    df.loc[df['Class'] == value, [\"Class\"]] = index"
   ],
   "id": "451d68dae31f2bb1",
   "outputs": [],
   "execution_count": 6
  },
  {
   "metadata": {
    "ExecuteTime": {
     "end_time": "2025-08-28T00:10:09.349333Z",
     "start_time": "2025-08-28T00:10:09.335218Z"
    }
   },
   "cell_type": "code",
   "source": [
    "df_train = df.sample(random_state=1, frac=0.8)\n",
    "df_test = df.drop(df_train.index)"
   ],
   "id": "a1c1d3ecabda9776",
   "outputs": [],
   "execution_count": 7
  },
  {
   "metadata": {},
   "cell_type": "markdown",
   "source": "<h2 align=\"center\" style=\"color:#f0e912\">TRAINING</h2>\n",
   "id": "984f8c76dd2263bf"
  },
  {
   "metadata": {
    "ExecuteTime": {
     "end_time": "2025-08-28T00:10:09.414965Z",
     "start_time": "2025-08-28T00:10:09.402727Z"
    }
   },
   "cell_type": "code",
   "source": [
    "# Transform features and target into numpy\n",
    "X = df_train.drop(\"Class\", axis=1)\n",
    "y = df_train[\"Class\"].values.reshape(-1, 1)\n",
    "# Intercept feature\n",
    "i_term = np.ones((len(X), 1))\n",
    "# Add intercept feature in other features\n",
    "X_intercept = np.concatenate((i_term, X), axis=1)"
   ],
   "id": "368282435ca1d7a9",
   "outputs": [],
   "execution_count": 8
  },
  {
   "metadata": {},
   "cell_type": "markdown",
   "source": "",
   "id": "14176b975376fb9a"
  },
  {
   "metadata": {
    "ExecuteTime": {
     "end_time": "2025-08-28T00:11:36.033261Z",
     "start_time": "2025-08-28T00:10:27.637800Z"
    }
   },
   "cell_type": "code",
   "source": [
    "from LogisticRegression.src.classification import gradient_descent\n",
    "\n",
    "theta, final_loss, weights_history, loss_history, metrics = gradient_descent(X_intercept, y, type=\"BGD\", alpha=0.0005)\n"
   ],
   "id": "c0c1221365156f0c",
   "outputs": [],
   "execution_count": 13
  },
  {
   "metadata": {
    "ExecuteTime": {
     "end_time": "2025-08-28T00:11:37.551602Z",
     "start_time": "2025-08-28T00:11:37.542985Z"
    }
   },
   "cell_type": "code",
   "source": "metrics",
   "id": "8e32f2271efc2ed8",
   "outputs": [
    {
     "data": {
      "text/plain": [
       "{'accuracy': np.float64(0.5291666666666667),\n",
       " 'precision': np.float64(0.5087209302325582),\n",
       " 'recall': np.float64(0.9971509971509972),\n",
       " 'f1_score': np.float64(0.6737247353224255)}"
      ]
     },
     "execution_count": 14,
     "metadata": {},
     "output_type": "execute_result"
    }
   ],
   "execution_count": 14
  }
 ],
 "metadata": {
  "kernelspec": {
   "display_name": "Python 3",
   "language": "python",
   "name": "python3"
  },
  "language_info": {
   "codemirror_mode": {
    "name": "ipython",
    "version": 2
   },
   "file_extension": ".py",
   "mimetype": "text/x-python",
   "name": "python",
   "nbconvert_exporter": "python",
   "pygments_lexer": "ipython2",
   "version": "2.7.6"
  }
 },
 "nbformat": 4,
 "nbformat_minor": 5
}
