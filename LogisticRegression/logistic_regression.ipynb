{
 "cells": [
  {
   "metadata": {},
   "cell_type": "markdown",
   "source": "<h1 style=\"color:#2192f1\" align=\"center\"> LOGISTIC REGRESSION</h1>\n",
   "id": "d1d2bf3e211af9d1"
  },
  {
   "metadata": {},
   "cell_type": "markdown",
   "source": "<h2 align=\"center\" style=\"color:#f0e912\">IMPORT LIBRARIES</h2>\n",
   "id": "b04d96f67767ac30"
  },
  {
   "metadata": {},
   "cell_type": "code",
   "outputs": [],
   "execution_count": null,
   "source": "",
   "id": "f9cdbf4d99741ad1"
  }
 ],
 "metadata": {
  "kernelspec": {
   "display_name": "Python 3",
   "language": "python",
   "name": "python3"
  },
  "language_info": {
   "codemirror_mode": {
    "name": "ipython",
    "version": 2
   },
   "file_extension": ".py",
   "mimetype": "text/x-python",
   "name": "python",
   "nbconvert_exporter": "python",
   "pygments_lexer": "ipython2",
   "version": "2.7.6"
  }
 },
 "nbformat": 4,
 "nbformat_minor": 5
}
